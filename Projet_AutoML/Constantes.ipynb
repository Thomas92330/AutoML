{
 "cells": [
  {
   "cell_type": "code",
   "execution_count": null,
   "metadata": {},
   "outputs": [],
   "source": [
    "#Titanic - Classification \n",
    "import pandas as pd \n",
    "\n",
    "train_df_titanic = pd.read_csv('Data/titanic/train.csv')\n",
    "test_df_titanic = pd.read_csv('Data/titanic/test.csv')\n",
    "\n",
    "X = train_df.drop(\"Survived\", axis=1)\n",
    "y = train_df[\"Survived\"]\n",
    "\n",
    "X_train, X_test, y_train, y_test = train_test_split(X, y, test_size = 0.15, random_state=42)"
   ]
  },
  {
   "cell_type": "code",
   "execution_count": null,
   "metadata": {},
   "outputs": [],
   "source": [
    "#California House - Regression Probleù\n",
    "import pandas as pd \n",
    "\n",
    "train_df_california_house = pd.read_csv('Data/California_house/train.csv')\n",
    "test_df_california_house = pd.read_csv('Data/California_house/test.csv')\n",
    "\n",
    "X = train_df.drop(\"SalePrice\", axis=1)\n",
    "y = train_df[\"SalePrice\"]\n",
    "\n",
    "X_train, X_test, y_train, y_test = train_test_split(X, y, test_size = 0.15, random_state=42)"
   ]
  },
  {
   "cell_type": "code",
   "execution_count": null,
   "metadata": {},
   "outputs": [],
   "source": [
    "#mnist - Classification (images)\n",
    "import pandas as pd \n",
    "\n",
    "train_df_mnist = pd.read_csv('Data/mnist/train.csv')\n",
    "test_df_mnist = pd.read_csv('Data/mnist/test.csv')\n",
    "\n",
    "X = train_df.drop() #?\n",
    "y = train_df[] #?\n",
    "\n",
    "X_train, X_test, y_train, y_test = train_test_split(X, y, test_size = 0.15, random_state=42)"
   ]
  }
 ],
 "metadata": {
  "kernelspec": {
   "display_name": "Python 3.6 (tensorflow)",
   "language": "python",
   "name": "tensorflow"
  },
  "language_info": {
   "codemirror_mode": {
    "name": "ipython",
    "version": 3
   },
   "file_extension": ".py",
   "mimetype": "text/x-python",
   "name": "python",
   "nbconvert_exporter": "python",
   "pygments_lexer": "ipython3",
   "version": "3.6.8"
  }
 },
 "nbformat": 4,
 "nbformat_minor": 4
}
