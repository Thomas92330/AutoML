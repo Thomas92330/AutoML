{
 "cells": [
  {
   "cell_type": "raw",
   "metadata": {
    "raw_mimetype": "text/markdown"
   },
   "source": [
    "-------------------------------------------------------------------------------\n",
    "Partie California House AUTO-ML H2O\n",
    "-------------------------------------------------------------------------------"
   ]
  },
  {
   "cell_type": "code",
   "execution_count": 1,
   "metadata": {},
   "outputs": [],
   "source": [
    "import h2o\n",
    "from h2o.estimators.gbm import H2OGradientBoostingEstimator\n",
    "from h2o.automl import H2OAutoML\n",
    "from h2o.model.metrics_base import H2OBinomialModelMetrics\n",
    "import pandas as pd"
   ]
  },
  {
   "cell_type": "code",
   "execution_count": 2,
   "metadata": {},
   "outputs": [
    {
     "name": "stdout",
     "output_type": "stream",
     "text": [
      "Checking whether there is an H2O instance running at http://localhost:54321 ... connected.\n"
     ]
    },
    {
     "data": {
      "text/html": [
       "<div style=\"overflow:auto\"><table style=\"width:50%\"><tr><td>H2O_cluster_uptime:</td>\n",
       "<td>4 hours 1 min</td></tr>\n",
       "<tr><td>H2O_cluster_timezone:</td>\n",
       "<td>Etc/UTC</td></tr>\n",
       "<tr><td>H2O_data_parsing_timezone:</td>\n",
       "<td>UTC</td></tr>\n",
       "<tr><td>H2O_cluster_version:</td>\n",
       "<td>3.30.0.3</td></tr>\n",
       "<tr><td>H2O_cluster_version_age:</td>\n",
       "<td>20 days </td></tr>\n",
       "<tr><td>H2O_cluster_name:</td>\n",
       "<td>H2O_from_python_unknownUser_n3uvuo</td></tr>\n",
       "<tr><td>H2O_cluster_total_nodes:</td>\n",
       "<td>1</td></tr>\n",
       "<tr><td>H2O_cluster_free_memory:</td>\n",
       "<td>178.1 Mb</td></tr>\n",
       "<tr><td>H2O_cluster_total_cores:</td>\n",
       "<td>1</td></tr>\n",
       "<tr><td>H2O_cluster_allowed_cores:</td>\n",
       "<td>1</td></tr>\n",
       "<tr><td>H2O_cluster_status:</td>\n",
       "<td>locked, healthy</td></tr>\n",
       "<tr><td>H2O_connection_url:</td>\n",
       "<td>http://localhost:54321</td></tr>\n",
       "<tr><td>H2O_connection_proxy:</td>\n",
       "<td>{\"http\": null, \"https\": null}</td></tr>\n",
       "<tr><td>H2O_internal_security:</td>\n",
       "<td>False</td></tr>\n",
       "<tr><td>H2O_API_Extensions:</td>\n",
       "<td>Amazon S3, XGBoost, Algos, AutoML, Core V3, TargetEncoder, Core V4</td></tr>\n",
       "<tr><td>Python_version:</td>\n",
       "<td>3.7.4 final</td></tr></table></div>"
      ],
      "text/plain": [
       "--------------------------  ------------------------------------------------------------------\n",
       "H2O_cluster_uptime:         4 hours 1 min\n",
       "H2O_cluster_timezone:       Etc/UTC\n",
       "H2O_data_parsing_timezone:  UTC\n",
       "H2O_cluster_version:        3.30.0.3\n",
       "H2O_cluster_version_age:    20 days\n",
       "H2O_cluster_name:           H2O_from_python_unknownUser_n3uvuo\n",
       "H2O_cluster_total_nodes:    1\n",
       "H2O_cluster_free_memory:    178.1 Mb\n",
       "H2O_cluster_total_cores:    1\n",
       "H2O_cluster_allowed_cores:  1\n",
       "H2O_cluster_status:         locked, healthy\n",
       "H2O_connection_url:         http://localhost:54321\n",
       "H2O_connection_proxy:       {\"http\": null, \"https\": null}\n",
       "H2O_internal_security:      False\n",
       "H2O_API_Extensions:         Amazon S3, XGBoost, Algos, AutoML, Core V3, TargetEncoder, Core V4\n",
       "Python_version:             3.7.4 final\n",
       "--------------------------  ------------------------------------------------------------------"
      ]
     },
     "metadata": {},
     "output_type": "display_data"
    }
   ],
   "source": [
    "h2o.init()"
   ]
  },
  {
   "cell_type": "code",
   "execution_count": 4,
   "metadata": {},
   "outputs": [
    {
     "name": "stdout",
     "output_type": "stream",
     "text": [
      "Parse progress: |█████████████████████████████████████████████████████████| 100%\n"
     ]
    }
   ],
   "source": [
    "df = h2o.import_file('../Data/avocado_price/no_nan_id.csv')"
   ]
  },
  {
   "cell_type": "code",
   "execution_count": 5,
   "metadata": {},
   "outputs": [
    {
     "name": "stdout",
     "output_type": "stream",
     "text": [
      "Rows:18250\n",
      "Cols:16\n",
      "\n",
      "\n"
     ]
    },
    {
     "data": {
      "text/html": [
       "<table>\n",
       "<thead>\n",
       "<tr><th>       </th><th>C1               </th><th>C2                </th><th>C3               </th><th>C4                </th><th>C5                </th><th>C6                </th><th>C7                </th><th>C8               </th><th>C9                </th><th>C10               </th><th>C11               </th><th>C12               </th><th>C13               </th><th>C14               </th><th>C15               </th><th>C16                </th></tr>\n",
       "</thead>\n",
       "<tbody>\n",
       "<tr><td>type   </td><td>int              </td><td>int               </td><td>int              </td><td>int               </td><td>int               </td><td>int               </td><td>int               </td><td>int              </td><td>int               </td><td>int               </td><td>int               </td><td>int               </td><td>int               </td><td>int               </td><td>int               </td><td>int                </td></tr>\n",
       "<tr><td>mins   </td><td>0.0              </td><td>44.0              </td><td>8456.0           </td><td>0.0               </td><td>0.0               </td><td>0.0               </td><td>0.0               </td><td>0.0              </td><td>0.0               </td><td>0.0               </td><td>2015.0            </td><td>0.0               </td><td>1.0               </td><td>1.0               </td><td>0.0               </td><td>0.0                </td></tr>\n",
       "<tr><td>mean   </td><td>9124.0           </td><td>140.54118033864876</td><td>85064401.24549295</td><td>29299237.091616444</td><td>29513839.727671206</td><td>2283848.671561645 </td><td>23963920.151241135</td><td>18219468.6155406 </td><td>5433808.7665077625</td><td>310642.635267686  </td><td>2016.1478985149859</td><td>26.495643596909414</td><td>6.177215189873422 </td><td>15.662611649953424</td><td>0.5000821962847279</td><td>0.49991780371527206</td></tr>\n",
       "<tr><td>maxs   </td><td>18248.0          </td><td>325.0             </td><td>6250564652.0     </td><td>2274361617.0      </td><td>2047057261.0      </td><td>254643911.0       </td><td>1937313437.0      </td><td>1338458680.0     </td><td>571909661.0       </td><td>55169365.0        </td><td>2018.0            </td><td>53.0              </td><td>12.0              </td><td>31.0              </td><td>1.0               </td><td>1.0                </td></tr>\n",
       "<tr><td>sigma  </td><td>5268.176866810757</td><td>40.27065470499721 </td><td>345354535.5376411</td><td>126495628.11411928</td><td>120408939.09115897</td><td>10746125.645304928</td><td>98624239.9220938  </td><td>74617851.49212016</td><td>24396596.45261353 </td><td>1769289.4584899298</td><td>0.9399384671426083</td><td>15.583787874697277</td><td>3.5341300006763605</td><td>8.776281067624605 </td><td>0.5000136931874184</td><td>0.5000136931874184 </td></tr>\n",
       "<tr><td>zeros  </td><td>1                </td><td>0                 </td><td>0                </td><td>242               </td><td>61                </td><td>5497              </td><td>15                </td><td>159              </td><td>2370              </td><td>12048             </td><td>0                 </td><td>338               </td><td>0                 </td><td>0                 </td><td>9123              </td><td>9126               </td></tr>\n",
       "<tr><td>missing</td><td>1                </td><td>1                 </td><td>1                </td><td>0                 </td><td>0                 </td><td>0                 </td><td>1                 </td><td>1                </td><td>1                 </td><td>1                 </td><td>1                 </td><td>1                 </td><td>1                 </td><td>1                 </td><td>1                 </td><td>1                  </td></tr>\n",
       "<tr><td>0      </td><td>nan              </td><td>nan               </td><td>nan              </td><td>4046.0            </td><td>4225.0            </td><td>4770.0            </td><td>nan               </td><td>nan              </td><td>nan               </td><td>nan               </td><td>nan               </td><td>nan               </td><td>nan               </td><td>nan               </td><td>nan               </td><td>nan                </td></tr>\n",
       "<tr><td>1      </td><td>0.0              </td><td>133.0             </td><td>6423662.0        </td><td>103674.0          </td><td>5445485.0         </td><td>4816.0            </td><td>869687.0          </td><td>860362.0         </td><td>9325.0            </td><td>0.0               </td><td>2015.0            </td><td>0.0               </td><td>12.0              </td><td>27.0              </td><td>1.0               </td><td>0.0                </td></tr>\n",
       "<tr><td>2      </td><td>1.0              </td><td>135.0             </td><td>5487698.0        </td><td>67428.0           </td><td>4463881.0         </td><td>5833.0            </td><td>950556.0          </td><td>940807.0         </td><td>9749.0            </td><td>0.0               </td><td>2015.0            </td><td>0.0               </td><td>12.0              </td><td>20.0              </td><td>1.0               </td><td>0.0                </td></tr>\n",
       "<tr><td>3      </td><td>2.0              </td><td>93.0              </td><td>11822022.0       </td><td>79470.0           </td><td>10914967.0        </td><td>13050.0           </td><td>814535.0          </td><td>804221.0         </td><td>10314.0           </td><td>0.0               </td><td>2015.0            </td><td>0.0               </td><td>12.0              </td><td>13.0              </td><td>1.0               </td><td>0.0                </td></tr>\n",
       "<tr><td>4      </td><td>3.0              </td><td>108.0             </td><td>7899214.0        </td><td>113200.0          </td><td>7197641.0         </td><td>7258.0            </td><td>581116.0          </td><td>567740.0         </td><td>13376.0           </td><td>0.0               </td><td>2015.0            </td><td>0.0               </td><td>12.0              </td><td>6.0               </td><td>1.0               </td><td>0.0                </td></tr>\n",
       "<tr><td>5      </td><td>4.0              </td><td>128.0             </td><td>5103960.0        </td><td>94148.0           </td><td>4383839.0         </td><td>7578.0            </td><td>618395.0          </td><td>598626.0         </td><td>19769.0           </td><td>0.0               </td><td>2015.0            </td><td>0.0               </td><td>11.0              </td><td>29.0              </td><td>1.0               </td><td>0.0                </td></tr>\n",
       "<tr><td>6      </td><td>5.0              </td><td>126.0             </td><td>5597978.0        </td><td>118427.0          </td><td>4806799.0         </td><td>4361.0            </td><td>668391.0          </td><td>655647.0         </td><td>12744.0           </td><td>0.0               </td><td>2015.0            </td><td>0.0               </td><td>11.0              </td><td>22.0              </td><td>1.0               </td><td>0.0                </td></tr>\n",
       "<tr><td>7      </td><td>6.0              </td><td>99.0              </td><td>8345375.0        </td><td>136892.0          </td><td>7367272.0         </td><td>9326.0            </td><td>831886.0          </td><td>819681.0         </td><td>12205.0           </td><td>0.0               </td><td>2015.0            </td><td>0.0               </td><td>11.0              </td><td>15.0              </td><td>1.0               </td><td>0.0                </td></tr>\n",
       "<tr><td>8      </td><td>7.0              </td><td>98.0              </td><td>10942833.0       </td><td>70375.0           </td><td>10181536.0        </td><td>8000.0            </td><td>682922.0          </td><td>626685.0         </td><td>56237.0           </td><td>0.0               </td><td>2015.0            </td><td>0.0               </td><td>11.0              </td><td>8.0               </td><td>1.0               </td><td>0.0                </td></tr>\n",
       "<tr><td>9      </td><td>8.0              </td><td>102.0             </td><td>9981142.0        </td><td>102215.0          </td><td>8731557.0         </td><td>8534.0            </td><td>1138836.0         </td><td>1110453.0        </td><td>28383.0           </td><td>0.0               </td><td>2015.0            </td><td>0.0               </td><td>11.0              </td><td>1.0               </td><td>1.0               </td><td>0.0                </td></tr>\n",
       "</tbody>\n",
       "</table>"
      ]
     },
     "metadata": {},
     "output_type": "display_data"
    }
   ],
   "source": [
    "df.describe()\n"
   ]
  },
  {
   "cell_type": "code",
   "execution_count": 7,
   "metadata": {},
   "outputs": [],
   "source": [
    "train, valid = df.split_frame(ratios = [.8], seed = 1234)\n",
    "y = \"C2\"\n",
    "x = df.columns\n",
    "x.remove(y)"
   ]
  },
  {
   "cell_type": "code",
   "execution_count": 8,
   "metadata": {},
   "outputs": [
    {
     "name": "stdout",
     "output_type": "stream",
     "text": [
      "gbm Model Build progress: |███████████████████████████████████████████████| 100%\n"
     ]
    }
   ],
   "source": [
    "aml = H2OGradientBoostingEstimator(sample_rate = .7, seed = 1234)\n",
    "aml.train(x = x, y = y, training_frame = train,validation_frame = valid)"
   ]
  },
  {
   "cell_type": "code",
   "execution_count": 9,
   "metadata": {},
   "outputs": [
    {
     "name": "stdout",
     "output_type": "stream",
     "text": [
      "\n",
      "ModelMetricsRegression: gbm\n",
      "** Reported on test data. **\n",
      "\n",
      "MSE: 310.9166734418476\n",
      "RMSE: 17.632829422467843\n",
      "MAE: 13.11616878648647\n",
      "RMSLE: 0.12227701300976383\n",
      "Mean Residual Deviance: 310.9166734418476\n"
     ]
    },
    {
     "data": {
      "text/plain": []
     },
     "execution_count": 9,
     "metadata": {},
     "output_type": "execute_result"
    }
   ],
   "source": [
    "aml.model_performance(df)\n"
   ]
  },
  {
   "cell_type": "code",
   "execution_count": null,
   "metadata": {},
   "outputs": [],
   "source": []
  }
 ],
 "metadata": {
  "celltoolbar": "Format de la Cellule Texte Brut",
  "kernelspec": {
   "display_name": "Python 3",
   "language": "python",
   "name": "python3"
  },
  "language_info": {
   "codemirror_mode": {
    "name": "ipython",
    "version": 3
   },
   "file_extension": ".py",
   "mimetype": "text/x-python",
   "name": "python",
   "nbconvert_exporter": "python",
   "pygments_lexer": "ipython3",
   "version": "3.7.4"
  }
 },
 "nbformat": 4,
 "nbformat_minor": 2
}
